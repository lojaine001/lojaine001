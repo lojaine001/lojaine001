{
  "nbformat": 4,
  "nbformat_minor": 0,
  "metadata": {
    "colab": {
      "provenance": [],
      "authorship_tag": "ABX9TyMTmrzK52zQlvTysgILgMAj",
      "include_colab_link": true
    },
    "kernelspec": {
      "name": "python3",
      "display_name": "Python 3"
    },
    "language_info": {
      "name": "python"
    }
  },
  "cells": [
    {
      "cell_type": "markdown",
      "metadata": {
        "id": "view-in-github",
        "colab_type": "text"
      },
      "source": [
        "<a href=\"https://colab.research.google.com/github/lojaine001/lojaine001/blob/main/Untitled9.ipynb\" target=\"_parent\"><img src=\"https://colab.research.google.com/assets/colab-badge.svg\" alt=\"Open In Colab\"/></a>"
      ]
    },
    {
      "cell_type": "code",
      "execution_count": 1,
      "metadata": {
        "colab": {
          "base_uri": "https://localhost:8080/"
        },
        "id": "Mz19YhzfVv7T",
        "outputId": "cfb92391-abe1-4396-836c-70dd0540f0e9"
      },
      "outputs": [
        {
          "output_type": "execute_result",
          "data": {
            "text/plain": [
              "0.954434002924965"
            ]
          },
          "metadata": {},
          "execution_count": 1
        }
      ],
      "source": [
        "import math\n",
        "from collections import Counter\n",
        "\n",
        "# Données du tableau\n",
        "data = [\n",
        "    {\"couleur\": \"cyan\", \"forme\": \"octogonal\", \"taille\": \"petit\", \"motif\": \"uniforme\", \"classe\": \"comestible\"},\n",
        "    {\"couleur\": \"orange\", \"forme\": \"hexagonal\", \"taille\": \"petit\", \"motif\": \"uniforme\", \"classe\": \"comestible\"},\n",
        "    {\"couleur\": \"orange\", \"forme\": \"octogonal\", \"taille\": \"petit\", \"motif\": \"rayé\", \"classe\": \"non comestible\"},\n",
        "    {\"couleur\": \"magenta\", \"forme\": \"hexagonal\", \"taille\": \"gigantesque\", \"motif\": \"rayé\", \"classe\": \"comestible\"},\n",
        "    {\"couleur\": \"cyan\", \"forme\": \"hexagonal\", \"taille\": \"gigantesque\", \"motif\": \"rayé\", \"classe\": \"comestible\"},\n",
        "    {\"couleur\": \"orange\", \"forme\": \"octogonal\", \"taille\": \"grand\", \"motif\": \"uniforme\", \"classe\": \"comestible\"},\n",
        "    {\"couleur\": \"magenta\", \"forme\": \"pentagonal\", \"taille\": \"gigantesque\", \"motif\": \"rayé\", \"classe\": \"non comestible\"},\n",
        "    {\"couleur\": \"magenta\", \"forme\": \"octogonal\", \"taille\": \"grand\", \"motif\": \"rayé\", \"classe\": \"non comestible\"},\n",
        "]\n",
        "\n",
        "# Étape 1 : Calcul de l'entropie de la population\n",
        "def entropy(data, target_attribute):\n",
        "    total = len(data)\n",
        "    counts = Counter([item[target_attribute] for item in data])\n",
        "    return -sum((count / total) * math.log2(count / total) for count in counts.values())\n",
        "\n",
        "# Entropie initiale (classe comestible ou non)\n",
        "initial_entropy = entropy(data, \"classe\")\n",
        "initial_entropy\n"
      ]
    },
    {
      "cell_type": "code",
      "source": [
        "import numpy as np\n",
        "\n",
        "def entropy_numpy(data, target_attribute):\n",
        "    # Extract values for the target attribute\n",
        "    values, counts = np.unique([item[target_attribute] for item in data], return_counts=True)\n",
        "    probabilities = counts / counts.sum()  # Normalize counts to probabilities\n",
        "    return -np.sum(probabilities * np.log2(probabilities))  # Calculate entropy using NumPy\n",
        "\n",
        "# Entropie initiale (classe comestible ou non)\n",
        "initial_entropy = entropy(data, \"classe\")\n",
        "initial_entropy"
      ],
      "metadata": {
        "colab": {
          "base_uri": "https://localhost:8080/"
        },
        "id": "KXLPfIGdWJtK",
        "outputId": "88755514-deb6-417a-a400-ae798a521cb2"
      },
      "execution_count": 6,
      "outputs": [
        {
          "output_type": "execute_result",
          "data": {
            "text/plain": [
              "0.954434002924965"
            ]
          },
          "metadata": {},
          "execution_count": 6
        }
      ]
    },
    {
      "cell_type": "code",
      "source": [
        "#MATH\n",
        "# Fonction pour calculer le gain d'information\n",
        "def information_gain(data, target_attribute, attribute):\n",
        "    total = len(data)\n",
        "    # Groupement par les valeurs de l'attribut\n",
        "    subsets = {}\n",
        "    for item in data:\n",
        "        key = item[attribute]\n",
        "        if key not in subsets:\n",
        "            subsets[key] = []\n",
        "        subsets[key].append(item)\n",
        "\n",
        "    # Calcul du gain d'information\n",
        "    subset_entropy = sum(\n",
        "        (len(subset) / total) * entropy(subset, target_attribute)\n",
        "        for subset in subsets.values()\n",
        "    )\n",
        "    return initial_entropy - subset_entropy\n",
        "\n",
        "# Attributs disponibles\n",
        "attributes = [\"couleur\", \"forme\", \"taille\", \"motif\"]\n",
        "\n",
        "# Calcul du gain d'information pour chaque attribut\n",
        "gains = {attribute: information_gain(data, \"classe\", attribute) for attribute in attributes}\n",
        "gains\n"
      ],
      "metadata": {
        "colab": {
          "base_uri": "https://localhost:8080/"
        },
        "id": "4o19zBG3V2D4",
        "outputId": "379598b4-011d-425c-dc5d-4c236d7ea3f7"
      },
      "execution_count": 2,
      "outputs": [
        {
          "output_type": "execute_result",
          "data": {
            "text/plain": [
              "{'couleur': 0.2657121273840979,\n",
              " 'forme': 0.45443400292496505,\n",
              " 'taille': 0.015712127384097885,\n",
              " 'motif': 0.34758988139079716}"
            ]
          },
          "metadata": {},
          "execution_count": 2
        }
      ]
    },
    {
      "cell_type": "code",
      "source": [
        "# NUMPY\n",
        "def information_gain_numpy(data, target_attribute, attribute):\n",
        "    total = len(data)\n",
        "    # Group by attribute values\n",
        "    subsets = {}\n",
        "    for item in data:\n",
        "        key = item[attribute]\n",
        "        if key not in subsets:\n",
        "            subsets[key] = []\n",
        "        subsets[key].append(item)\n",
        "\n",
        "    # Calculate weighted entropy of subsets\n",
        "    weighted_entropy = sum(\n",
        "        (len(subset) / total) * entropy_numpy(subset, target_attribute)\n",
        "        for subset in subsets.values()\n",
        "    )\n",
        "    return entropy_numpy(data, target_attribute) - weighted_entropy\n",
        "# Attributs disponibles\n",
        "attributes = [\"couleur\", \"forme\", \"taille\", \"motif\"]\n",
        "\n",
        "# Calcul du gain d'information pour chaque attribut\n",
        "gains = {attribute: information_gain(data, \"classe\", attribute) for attribute in attributes}\n",
        "gains"
      ],
      "metadata": {
        "colab": {
          "base_uri": "https://localhost:8080/"
        },
        "id": "9SaUp5jeZDDd",
        "outputId": "200f3fb9-b941-4487-eff4-db843de4c69f"
      },
      "execution_count": 7,
      "outputs": [
        {
          "output_type": "execute_result",
          "data": {
            "text/plain": [
              "{'couleur': 0.2657121273840979,\n",
              " 'forme': 0.45443400292496505,\n",
              " 'taille': 0.015712127384097885,\n",
              " 'motif': 0.34758988139079716}"
            ]
          },
          "metadata": {},
          "execution_count": 7
        }
      ]
    },
    {
      "cell_type": "code",
      "source": [
        "# Construction récursive de l'arbre de décision\n",
        "class DecisionNode:\n",
        "    def __init__(self, attribute=None, branches=None, label=None):\n",
        "        self.attribute = attribute  # Attribut à tester\n",
        "        self.branches = branches or {}  # Sous-arbres (valeurs de l'attribut -> sous-arbre)\n",
        "        self.label = label  # Classe prédite si feuille\n",
        "\n",
        "def id3(data, target_attribute, attributes):\n",
        "    # Comptage des classes\n",
        "    classes = [item[target_attribute] for item in data]\n",
        "    most_common_class = Counter(classes).most_common(1)[0][0]\n",
        "\n",
        "    # Cas 1 : tous les exemples sont dans une seule classe\n",
        "    if len(set(classes)) == 1:\n",
        "        return DecisionNode(label=classes[0])\n",
        "\n",
        "    # Cas 2 : aucun attribut restant\n",
        "    if not attributes:\n",
        "        return DecisionNode(label=most_common_class)\n",
        "\n",
        "    # Cas 3 : sélectionner l'attribut avec le meilleur gain d'information\n",
        "    gains = {attribute: information_gain(data, target_attribute, attribute) for attribute in attributes}\n",
        "    best_attribute = max(gains, key=gains.get)\n",
        "\n",
        "    # Créer un nœud pour cet attribut\n",
        "    node = DecisionNode(attribute=best_attribute)\n",
        "    subsets = {}\n",
        "    for item in data:\n",
        "        key = item[best_attribute]\n",
        "        if key not in subsets:\n",
        "            subsets[key] = []\n",
        "        subsets[key].append(item)\n",
        "\n",
        "    # Appel récursif sur chaque branche\n",
        "    remaining_attributes = [attr for attr in attributes if attr != best_attribute]\n",
        "    for value, subset in subsets.items():\n",
        "        if subset:\n",
        "            node.branches[value] = id3(subset, target_attribute, remaining_attributes)\n",
        "        else:\n",
        "            node.branches[value] = DecisionNode(label=most_common_class)\n",
        "\n",
        "    return node\n",
        "\n",
        "# Construire l'arbre\n",
        "decision_tree = id3(data, \"classe\", attributes)\n",
        "\n",
        "# Fonction pour afficher l'arbre (format textuel simple)\n",
        "def print_tree(node, depth=0):\n",
        "    indent = \"  \" * depth\n",
        "    if node.label is not None:\n",
        "        print(f\"{indent}Classe: {node.label}\")\n",
        "    else:\n",
        "        print(f\"{indent}{node.attribute}?\")\n",
        "        for value, branch in node.branches.items():\n",
        "            print(f\"{indent}  {value}:\")\n",
        "            print_tree(branch, depth + 2)\n",
        "\n",
        "# Afficher l'arbre\n",
        "print_tree(decision_tree)\n"
      ],
      "metadata": {
        "colab": {
          "base_uri": "https://localhost:8080/"
        },
        "id": "s5hG4czYV8lS",
        "outputId": "f01cacbd-3463-4582-eaa8-2078b22a9fcc"
      },
      "execution_count": 3,
      "outputs": [
        {
          "output_type": "stream",
          "name": "stdout",
          "text": [
            "forme?\n",
            "  octogonal:\n",
            "    motif?\n",
            "      uniforme:\n",
            "        Classe: comestible\n",
            "      rayé:\n",
            "        Classe: non comestible\n",
            "  hexagonal:\n",
            "    Classe: comestible\n",
            "  pentagonal:\n",
            "    Classe: non comestible\n"
          ]
        }
      ]
    },
    {
      "cell_type": "code",
      "source": [
        "# Nouveaux échantillons à classer\n",
        "new_samples = [\n",
        "    {\"identificateur\": \"GH-45\", \"couleur\": \"magenta\", \"forme\": \"octogonal\", \"taille\": \"petit\", \"motif\": \"rayé\"},\n",
        "    {\"identificateur\": \"GH-34\", \"couleur\": \"cyan\", \"forme\": \"pentagonal\", \"taille\": \"gigantesque\", \"motif\": \"uniforme\"},\n",
        "    {\"identificateur\": \"ML-57\", \"couleur\": \"magenta\", \"forme\": \"hexagonal\", \"taille\": \"grand\", \"motif\": \"rayé\"},\n",
        "    {\"identificateur\": \"NS-31\", \"couleur\": \"orange\", \"forme\": \"hexagonal\", \"taille\": \"grand\", \"motif\": \"uniforme\"},\n",
        "]\n",
        "\n",
        "# Fonction pour prédire avec l'arbre\n",
        "def predict(tree, sample):\n",
        "    if tree.label is not None:\n",
        "        return tree.label\n",
        "    attribute_value = sample[tree.attribute]\n",
        "    if attribute_value in tree.branches:\n",
        "        return predict(tree.branches[attribute_value], sample)\n",
        "    else:\n",
        "        return \"Inconnu\"  # Si la valeur n'existe pas dans l'arbre\n",
        "\n",
        "# Prédictions pour les nouveaux échantillons\n",
        "predictions = {sample[\"identificateur\"]: predict(decision_tree, sample) for sample in new_samples}\n",
        "predictions\n"
      ],
      "metadata": {
        "colab": {
          "base_uri": "https://localhost:8080/"
        },
        "id": "ei7_qoyBWC7Y",
        "outputId": "152e1aec-6387-49a3-ff06-3b8775ce3fdc"
      },
      "execution_count": 4,
      "outputs": [
        {
          "output_type": "execute_result",
          "data": {
            "text/plain": [
              "{'GH-45': 'non comestible',\n",
              " 'GH-34': 'non comestible',\n",
              " 'ML-57': 'comestible',\n",
              " 'NS-31': 'comestible'}"
            ]
          },
          "metadata": {},
          "execution_count": 4
        }
      ]
    }
  ]
}